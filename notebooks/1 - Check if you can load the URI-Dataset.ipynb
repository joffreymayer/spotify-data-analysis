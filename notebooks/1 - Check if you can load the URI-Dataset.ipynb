{
 "cells": [
  {
   "cell_type": "code",
   "execution_count": null,
   "metadata": {},
   "outputs": [],
   "source": [
    "# Run this notebook after you collected all the URIs via the following website: https://open.spotify.com/search\n",
    "\n",
    "# I needed to MANUALLY type in all the country-names that I got from the in order to retrive all the URIs. I used a \n",
    "# file called `country-uri.txt` to collect all the country & their respective URIs. Then, I simply saved the file as a \n",
    "# `.csv`-file (via VS-code) into the folder \"datasets\".\n",
    "\n",
    "# Now, I check if I can load the `.csv`-file with all the URIs..."
   ]
  },
  {
   "cell_type": "code",
   "execution_count": 2,
   "metadata": {},
   "outputs": [],
   "source": [
    "import pandas as pd"
   ]
  },
  {
   "cell_type": "code",
   "execution_count": 3,
   "metadata": {},
   "outputs": [],
   "source": [
    "test = pd.read_csv(\n",
    "    \"/Users/jomaye/Documents/Programming/04-DS-repos/Python/spotify-api/datasets/country-uri-ds.csv\", \n",
    "    sep=',' # Im CSV-File waren die Spalten via \",\"-Taste separiert, deshalb diese option zwingend anzugeben ist (ansonsten Error!)\n",
    ") "
   ]
  },
  {
   "cell_type": "code",
   "execution_count": 4,
   "metadata": {},
   "outputs": [
    {
     "data": {
      "text/html": [
       "<div>\n",
       "<style scoped>\n",
       "    .dataframe tbody tr th:only-of-type {\n",
       "        vertical-align: middle;\n",
       "    }\n",
       "\n",
       "    .dataframe tbody tr th {\n",
       "        vertical-align: top;\n",
       "    }\n",
       "\n",
       "    .dataframe thead th {\n",
       "        text-align: right;\n",
       "    }\n",
       "</style>\n",
       "<table border=\"1\" class=\"dataframe\">\n",
       "  <thead>\n",
       "    <tr style=\"text-align: right;\">\n",
       "      <th></th>\n",
       "      <th>Country</th>\n",
       "      <th>Continent</th>\n",
       "      <th>URI</th>\n",
       "    </tr>\n",
       "  </thead>\n",
       "  <tbody>\n",
       "    <tr>\n",
       "      <th>0</th>\n",
       "      <td>Global</td>\n",
       "      <td>Global</td>\n",
       "      <td>37i9dQZEVXbMDoHDwVN2tF</td>\n",
       "    </tr>\n",
       "    <tr>\n",
       "      <th>1</th>\n",
       "      <td>Argentina</td>\n",
       "      <td>South America</td>\n",
       "      <td>37i9dQZEVXbMMy2roB9myp</td>\n",
       "    </tr>\n",
       "    <tr>\n",
       "      <th>2</th>\n",
       "      <td>Australia</td>\n",
       "      <td>Australia</td>\n",
       "      <td>37i9dQZEVXbJPcfkRz0wJ0</td>\n",
       "    </tr>\n",
       "    <tr>\n",
       "      <th>3</th>\n",
       "      <td>Austria</td>\n",
       "      <td>Europe</td>\n",
       "      <td>37i9dQZEVXbKNHh6NIXu36</td>\n",
       "    </tr>\n",
       "    <tr>\n",
       "      <th>4</th>\n",
       "      <td>Belgium</td>\n",
       "      <td>Europe</td>\n",
       "      <td>37i9dQZEVXbJNSeeHswcKB</td>\n",
       "    </tr>\n",
       "    <tr>\n",
       "      <th>...</th>\n",
       "      <td>...</td>\n",
       "      <td>...</td>\n",
       "      <td>...</td>\n",
       "    </tr>\n",
       "    <tr>\n",
       "      <th>57</th>\n",
       "      <td>Turkey</td>\n",
       "      <td>Europe</td>\n",
       "      <td>37i9dQZEVXbIVYVBNw9D5K</td>\n",
       "    </tr>\n",
       "    <tr>\n",
       "      <th>58</th>\n",
       "      <td>United Kingdom</td>\n",
       "      <td>Europe</td>\n",
       "      <td>37i9dQZEVXbLnolsZ8PSNw</td>\n",
       "    </tr>\n",
       "    <tr>\n",
       "      <th>59</th>\n",
       "      <td>United States</td>\n",
       "      <td>North America</td>\n",
       "      <td>37i9dQZEVXbLRQDuF5jeBp</td>\n",
       "    </tr>\n",
       "    <tr>\n",
       "      <th>60</th>\n",
       "      <td>Uruguay</td>\n",
       "      <td>South America</td>\n",
       "      <td>37i9dQZEVXbMJJi3wgRbAy</td>\n",
       "    </tr>\n",
       "    <tr>\n",
       "      <th>61</th>\n",
       "      <td>Vietnam</td>\n",
       "      <td>Asia</td>\n",
       "      <td>37i9dQZEVXbLdGSmz6xilI</td>\n",
       "    </tr>\n",
       "  </tbody>\n",
       "</table>\n",
       "<p>62 rows × 3 columns</p>\n",
       "</div>"
      ],
      "text/plain": [
       "           Country      Continent                     URI\n",
       "0           Global         Global  37i9dQZEVXbMDoHDwVN2tF\n",
       "1        Argentina  South America  37i9dQZEVXbMMy2roB9myp\n",
       "2        Australia      Australia  37i9dQZEVXbJPcfkRz0wJ0\n",
       "3          Austria         Europe  37i9dQZEVXbKNHh6NIXu36\n",
       "4          Belgium         Europe  37i9dQZEVXbJNSeeHswcKB\n",
       "..             ...            ...                     ...\n",
       "57          Turkey         Europe  37i9dQZEVXbIVYVBNw9D5K\n",
       "58  United Kingdom         Europe  37i9dQZEVXbLnolsZ8PSNw\n",
       "59   United States  North America  37i9dQZEVXbLRQDuF5jeBp\n",
       "60         Uruguay  South America  37i9dQZEVXbMJJi3wgRbAy\n",
       "61         Vietnam           Asia  37i9dQZEVXbLdGSmz6xilI\n",
       "\n",
       "[62 rows x 3 columns]"
      ]
     },
     "execution_count": 4,
     "metadata": {},
     "output_type": "execute_result"
    }
   ],
   "source": [
    "test"
   ]
  },
  {
   "cell_type": "code",
   "execution_count": 5,
   "metadata": {},
   "outputs": [],
   "source": [
    "unique_uri_names = test['URI'].unique()"
   ]
  },
  {
   "cell_type": "code",
   "execution_count": 6,
   "metadata": {},
   "outputs": [
    {
     "data": {
      "text/plain": [
       "array(['37i9dQZEVXbMDoHDwVN2tF', '37i9dQZEVXbMMy2roB9myp',\n",
       "       '37i9dQZEVXbJPcfkRz0wJ0', '37i9dQZEVXbKNHh6NIXu36',\n",
       "       '37i9dQZEVXbJNSeeHswcKB', '37i9dQZEVXbJqfMFK4d691',\n",
       "       '37i9dQZEVXbMXbN3EUUhlg', '37i9dQZEVXbNfM2w2mq1B8',\n",
       "       '37i9dQZEVXbKj23U1GF4IR', '37i9dQZEVXbL0GavIqMTeb',\n",
       "       '37i9dQZEVXbOa2lmxNORXQ', '37i9dQZEVXbMZAjGMynsQX',\n",
       "       '37i9dQZEVXbIP3c3fqVrJY', '37i9dQZEVXbL3J0k32lWnN',\n",
       "       '37i9dQZEVXbKAbrMR8uuf7', '37i9dQZEVXbJlM6nvL1nD1',\n",
       "       '37i9dQZEVXbLxoIml4MYkT', '37i9dQZEVXbLesry2Qw2xS',\n",
       "       '37i9dQZEVXbMxcczTSoGwZ', '1B8UQSO6ecpMHFCoR5VNj7',\n",
       "       '37i9dQZEVXbJiZcmkrIHGU', '37i9dQZEVXbJqdarpmTJDL',\n",
       "       '37i9dQZEVXbLy5tBFyQvd4', '37i9dQZEVXbJp9wcIM9Eo5',\n",
       "       '37i9dQZEVXbLwpL8TjsxOG', '37i9dQZEVXbNHwMxAkvmF8',\n",
       "       '37i9dQZEVXbKMzVsSGQ49S', '37i9dQZEVXbLZ52XmnySJg',\n",
       "       '37i9dQZEVXbObFQZ3JLcXt', '37i9dQZEVXbKM896FDX8L1',\n",
       "       '37i9dQZEVXbJ6IpvItkve3', '37i9dQZEVXbIQnj7RRhdSX',\n",
       "       '37i9dQZEVXbKXQ4mDTEBXq', '37i9dQZEVXbJWuzDrTxbKS',\n",
       "       '37i9dQZEVXbMx56Rdq5lwc', '37i9dQZEVXbKGcyg6TFGx6',\n",
       "       '37i9dQZEVXbJlfUljuZExa', '37i9dQZEVXbO3qyFxbkOE1',\n",
       "       '37i9dQZEVXbKCF6dqVpDkS', '37i9dQZEVXbM8SIrkERIYl',\n",
       "       '37i9dQZEVXbISk8kxnzfCq', '37i9dQZEVXbJvfa0Yxg7E7',\n",
       "       '37i9dQZEVXbKypXHVwk1f0', '37i9dQZEVXbNOUPGj7tW6T',\n",
       "       '37i9dQZEVXbJfdy5b0KP7W', '37i9dQZEVXbNBz9cRCSFkY',\n",
       "       '37i9dQZEVXbN6itCcaL3Tt', '37i9dQZEVXbKyJS56d1pgi',\n",
       "       '37i9dQZEVXbNZbJ6TZelCq', '37i9dQZEVXbK4gjvS1FjPY',\n",
       "       '37i9dQZEVXbKIVTPX9a2Sb', '37i9dQZEVXbMH2jvi6jvjk',\n",
       "       '37i9dQZEVXbNFJfN1Vw8d9', '37i9dQZEVXbLoATJ81JYXz',\n",
       "       '37i9dQZEVXbJiyhoAPEfMK', '37i9dQZEVXbMnZEatlMSiu',\n",
       "       '37i9dQZEVXbMnz8KIWsvf9', '37i9dQZEVXbIVYVBNw9D5K',\n",
       "       '37i9dQZEVXbLnolsZ8PSNw', '37i9dQZEVXbLRQDuF5jeBp',\n",
       "       '37i9dQZEVXbMJJi3wgRbAy', '37i9dQZEVXbLdGSmz6xilI'], dtype=object)"
      ]
     },
     "execution_count": 6,
     "metadata": {},
     "output_type": "execute_result"
    }
   ],
   "source": [
    "for el in unique_uri_names: \n",
    "    print(unique_uri_names)"
   ]
  },
  {
   "cell_type": "code",
   "execution_count": 7,
   "metadata": {},
   "outputs": [
    {
     "data": {
      "text/plain": [
       "62"
      ]
     },
     "execution_count": 7,
     "metadata": {},
     "output_type": "execute_result"
    }
   ],
   "source": [
    "len(unique_uri_names)"
   ]
  },
  {
   "cell_type": "code",
   "execution_count": null,
   "metadata": {},
   "outputs": [],
   "source": []
  }
 ],
 "metadata": {
  "kernelspec": {
   "display_name": "Python 3 (ipykernel)",
   "language": "python",
   "name": "python3"
  },
  "language_info": {
   "codemirror_mode": {
    "name": "ipython",
    "version": 3
   },
   "file_extension": ".py",
   "mimetype": "text/x-python",
   "name": "python",
   "nbconvert_exporter": "python",
   "pygments_lexer": "ipython3",
   "version": "3.10.7"
  },
  "vscode": {
   "interpreter": {
    "hash": "aee8b7b246df8f9039afb4144a1f6fd8d2ca17a180786b69acc140d282b71a49"
   }
  }
 },
 "nbformat": 4,
 "nbformat_minor": 4
}
